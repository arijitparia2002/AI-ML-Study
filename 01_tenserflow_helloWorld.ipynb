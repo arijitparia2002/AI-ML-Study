{
  "nbformat": 4,
  "nbformat_minor": 0,
  "metadata": {
    "colab": {
      "provenance": [],
      "collapsed_sections": [],
      "authorship_tag": "ABX9TyMG4XqnDHH5xa81o9ghaGvR",
      "include_colab_link": true
    },
    "kernelspec": {
      "name": "python3",
      "display_name": "Python 3"
    },
    "language_info": {
      "name": "python"
    }
  },
  "cells": [
    {
      "cell_type": "markdown",
      "metadata": {
        "id": "view-in-github",
        "colab_type": "text"
      },
      "source": [
        "<a href=\"https://colab.research.google.com/github/arijitparia2002/AI-ML-Study/blob/main/01_tenserflow_helloWorld.ipynb\" target=\"_parent\"><img src=\"https://colab.research.google.com/assets/colab-badge.svg\" alt=\"Open In Colab\"/></a>"
      ]
    },
    {
      "cell_type": "code",
      "execution_count": null,
      "metadata": {
        "id": "-LuOgTuZs_lS"
      },
      "outputs": [],
      "source": [
        "#Importing important libraries\n",
        "import keras\n",
        "import numpy as np"
      ]
    },
    {
      "cell_type": "markdown",
      "source": [
        "### Working with only **one layer - Single neuron**\n",
        "\n",
        "\n"
      ],
      "metadata": {
        "id": "FJQEEwmxrcFc"
      }
    },
    {
      "cell_type": "code",
      "source": [
        "model = keras.Sequential([keras.layers.Dense(units=1, input_shape=[1])])"
      ],
      "metadata": {
        "id": "jRqHx654x87f"
      },
      "execution_count": null,
      "outputs": []
    },
    {
      "cell_type": "markdown",
      "source": [
        "### **Loss function** calculates the loss of the predictio value\n",
        "### **SGD** - Sochastic Gradient descent\n",
        "### Optimizer tries ti guess better in next epoch/cycle"
      ],
      "metadata": {
        "id": "yj2KAoFIrw0S"
      }
    },
    {
      "cell_type": "code",
      "source": [
        "model.compile(optimizer='sgd', loss='mean_squared_error')"
      ],
      "metadata": {
        "id": "BMkOGLYVyZes"
      },
      "execution_count": null,
      "outputs": []
    },
    {
      "cell_type": "code",
      "source": [
        "xs = np.array([-1.0, 0.0, 1.0, 2.0, 3.0, 4.0], dtype=float)\n",
        "ys = np.array([-3.0, -1.0, 1.0, 3.0, 5.0, 7.0], dtype=float)"
      ],
      "metadata": {
        "id": "oof1_NDNzOw6"
      },
      "execution_count": null,
      "outputs": []
    },
    {
      "cell_type": "markdown",
      "source": [
        "#### **Epochs** - The number times that the learning algorithm will work through the entire training dataset\n",
        "#### Vervose = 0 // to hide the output on every epoch"
      ],
      "metadata": {
        "id": "-npwO7W0sOoC"
      }
    },
    {
      "cell_type": "code",
      "source": [
        "model.fit(xs, ys, epochs=500, verbose=0)"
      ],
      "metadata": {
        "colab": {
          "base_uri": "https://localhost:8080/"
        },
        "id": "x8SeYLYkz1T3",
        "outputId": "ca9acabe-00d1-491e-bc47-886a3e4d73f2"
      },
      "execution_count": null,
      "outputs": [
        {
          "output_type": "execute_result",
          "data": {
            "text/plain": [
              "<keras.callbacks.History at 0x7fef84ad8e50>"
            ]
          },
          "metadata": {},
          "execution_count": 16
        }
      ]
    },
    {
      "cell_type": "markdown",
      "source": [
        "## **Predicting the value**\n",
        "### Pattern was y = 2x - 1 \n",
        "So, the ans was 19\n"
      ],
      "metadata": {
        "id": "vfxYPIZesroD"
      }
    },
    {
      "cell_type": "code",
      "source": [
        "print(model.predict([10.0])) "
      ],
      "metadata": {
        "colab": {
          "base_uri": "https://localhost:8080/"
        },
        "id": "LZRz7IJM0Bn1",
        "outputId": "e2380523-7df9-4119-c28c-79f68830d044"
      },
      "execution_count": null,
      "outputs": [
        {
          "output_type": "stream",
          "name": "stdout",
          "text": [
            "[[18.999987]]\n"
          ]
        }
      ]
    },
    {
      "cell_type": "code",
      "source": [],
      "metadata": {
        "id": "9-ebNyYKtGyx"
      },
      "execution_count": null,
      "outputs": []
    },
    {
      "cell_type": "code",
      "source": [],
      "metadata": {
        "id": "mA6E6IkL0TBr"
      },
      "execution_count": null,
      "outputs": []
    }
  ]
}